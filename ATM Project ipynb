{
  "nbformat": 4,
  "nbformat_minor": 0,
  "metadata": {
    "colab": {
      "name": "Untitled23.ipynb",
      "provenance": [],
      "authorship_tag": "ABX9TyPMrSFCLoJL2ZU8J+QCD3Bw",
      "include_colab_link": true
    },
    "kernelspec": {
      "name": "python3",
      "display_name": "Python 3"
    },
    "language_info": {
      "name": "python"
    }
  },
  "cells": [
    {
      "cell_type": "markdown",
      "metadata": {
        "id": "view-in-github",
        "colab_type": "text"
      },
      "source": [
        "<a href=\"https://colab.research.google.com/github/dragonfire-09/ATM-Project/blob/main/ATM%20Project%20ipynb\" target=\"_parent\"><img src=\"https://colab.research.google.com/assets/colab-badge.svg\" alt=\"Open In Colab\"/></a>"
      ]
    },
    {
      "cell_type": "code",
      "source": [
        "print(\"\"\"\n",
        "\n",
        "ATM uygulamasına hoş geldiniz.!\n",
        "(1) Bakiye Sorma\n",
        "(2) Para Çekme\n",
        "(3) Para Yatırma\n",
        "(q) Çıkış\n",
        "\n",
        "\"\"\")\n",
        "\n",
        "bakiye = 1000\n",
        "\n",
        "while True:\n",
        "    islem = input(\"Lütfen işlem seçiniz: \")\n",
        "    if islem == \"q\":\n",
        "        print(\"İyi Günler Dileriz..\")\n",
        "        break\n",
        "    elif (islem == \"1\"):\n",
        "        print(\"Bakiye: {}\".format(bakiye))\n",
        "\n",
        "    elif (islem == \"2\"):\n",
        "        tutar = int(input(\"Ne kadar çekmek istiyorsunuz: \"))\n",
        "        \n",
        "        if (bakiye - tutar < 0):\n",
        "            print(\"Yetersiz bakiye...\")\n",
        "            continue\n",
        "        bakiye -= tutar\n",
        "\n",
        "    elif (islem == \"3\"):\n",
        "        tutar = int(input(\"Ne kadar para yatırmak istiyorsunuz: \"))\n",
        "        bakiye = bakiye + tutar\n",
        "        print(\"Yeni bakiyeniz: {}\".format(bakiye))\n",
        "    else:\n",
        "        print(\"Geçersiz işlem girdiniz..!\")"
      ],
      "metadata": {
        "id": "1or1g5a36GIH",
        "outputId": "0da84ba6-adb0-4993-edf9-8107bb894805",
        "colab": {
          "base_uri": "https://localhost:8080/"
        }
      },
      "execution_count": 5,
      "outputs": [
        {
          "output_type": "stream",
          "name": "stdout",
          "text": [
            "\n",
            "\n",
            "ATM uygulamasına hoş geldiniz.!\n",
            "(1) Bakiye Sorma\n",
            "(2) Para Çekme\n",
            "(3) Para Yatırma\n",
            "(q) Çıkış\n",
            "\n",
            "\n",
            "Lütfen işlem seçiniz: 1\n",
            "Bakiye: 1000\n",
            "Lütfen işlem seçiniz: 2\n",
            "Ne kadar çekmek istiyorsunuz: 100\n",
            "Lütfen işlem seçiniz: 2\n",
            "Ne kadar çekmek istiyorsunuz: 10\n",
            "Lütfen işlem seçiniz: 5\n",
            "Geçersiz işlem girdiniz..!\n",
            "Lütfen işlem seçiniz: 10\n",
            "Geçersiz işlem girdiniz..!\n",
            "Lütfen işlem seçiniz: 3\n",
            "Ne kadar para yatırmak istiyorsunuz: 20\n",
            "Yeni bakiyeniz: 910\n",
            "Lütfen işlem seçiniz: q\n",
            "İyi Günler Dileriz..\n"
          ]
        }
      ]
    },
    {
      "cell_type": "code",
      "source": [
        ""
      ],
      "metadata": {
        "id": "Ks1CuI3f7DzP"
      },
      "execution_count": null,
      "outputs": []
    }
  ]
}