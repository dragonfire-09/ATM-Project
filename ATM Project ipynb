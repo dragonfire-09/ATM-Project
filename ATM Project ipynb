{
  "nbformat": 4,
  "nbformat_minor": 0,
  "metadata": {
    "colab": {
      "name": "Untitled23.ipynb",
      "provenance": [],
      "authorship_tag": "ABX9TyPMrSFCLoJL2ZU8J+QCD3Bw",
      "include_colab_link": true
    },
    "kernelspec": {
      "name": "python3",
      "display_name": "Python 3"
    },
    "language_info": {
      "name": "python"
    }
  },
  "cells": [
    {
      "cell_type": "markdown",
      "metadata": {
        "id": "view-in-github",
        "colab_type": "text"
      },
      "source": [
        "<a href=\"https://colab.research.google.com/github/dragonfire-09/ATM-Project/blob/main/ATM%20Project%20ipynb\" target=\"_parent\"><img src=\"https://colab.research.google.com/assets/colab-badge.svg\" alt=\"Open In Colab\"/></a>"
      ]
    },
    {
      "cell_type": "code",
      "source": [
       #################################################################################################################################################################3
 print("""

ATM uygulamasına hoş geldiniz.!
(1) Bakiye Sorma
(2) Para Çekme
(3) Para Yatırma
(q) Çıkış

""")

bakiye = 1000

while True:
    islem = input("Lütfen işlem seçiniz: ")
    if islem == "q":
        print("İyi Günler Dileriz..")
        break
    elif (islem == "1"):
        print("Bakiye: {}".format(bakiye))

    elif (islem == "2"):
        tutar = int(input("Ne kadar çekmek istiyorsunuz: "))
        
        if (bakiye - tutar < 0):
            print("Yetersiz bakiye...")
            continue
        bakiye -= tutar

    elif (islem == "3"):
        tutar = int(input("Ne kadar para yatırmak istiyorsunuz: "))
        bakiye = bakiye + tutar
        print("Yeni bakiyeniz: {}".format(bakiye))
    else:
        print("Geçersiz işlem girdiniz..!")
